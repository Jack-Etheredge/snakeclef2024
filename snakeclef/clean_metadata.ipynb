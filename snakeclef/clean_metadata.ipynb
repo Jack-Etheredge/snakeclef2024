{
 "cells": [
  {
   "cell_type": "code",
   "execution_count": 1,
   "id": "c00662c7-7cfd-4e5e-b089-dfdde4799b3d",
   "metadata": {},
   "outputs": [
    {
     "name": "stderr",
     "output_type": "stream",
     "text": [
      "100%|██████████| 154301/154301 [00:01<00:00, 87823.79it/s]\n",
      "100%|██████████| 13843/13843 [00:00<00:00, 88612.10it/s]\n",
      "100%|██████████| 14117/14117 [00:00<00:00, 87023.67it/s]"
     ]
    },
    {
     "name": "stdout",
     "output_type": "stream",
     "text": [
      "{'SnakeCLEF2023-TrainMetadata-iNat.csv': ['2003/Drymobius_margaritiferus/92607263.jpeg', '2005/Boa_constrictor/51948339.jpg', '2005/Dolichophis_caspius/84849996.jpg', '2005/Dolichophis_caspius/84850080.jpg', '2005/Psammophis_lineolatus/166592463.jpeg', '2006/Lycodon_fasciatus/90633631.jpeg', '2007/Mastigodryas_melanolomus/41391578.jpg', '2007/Tachymenis_chilensis/173866977.jpeg', '2008/Rhinocheilus_antonii/509048.jpg', '2008/Chilomeniscus_stramineus/1103816.jpg', '2008/Natrix_natrix/169353300.jpg', '2009/Sonora_semiannulata/10842265.jpeg', '2011/Salvadora_grahamiae/1536408.JPG', '2011/Chironius_laurenti/112698408.jpg', '2011/Chironius_laurenti/112698412.jpg', '2011/Chironius_laurenti/112698420.jpg', '2011/Mastigodryas_dorsalis/151586802.jpeg', '2011/Mastigodryas_dorsalis/151586828.jpeg', '2011/Natrix_tessellata/23357436.jpeg', '2011/Natrix_tessellata/23357444.jpeg', '2011/Thamnophis_gigas/606358.JPG', '2011/Thamnophis_gigas/606359.JPG', '2011/Crotalus_mitchellii/61338879.jpg', '2011/Crotalus_mitchellii/61339101.jpg', '2011/Psammophis_notostictus/51992.JPG', '2011/Oxybelis_aeneus/4524115.jpg', '2011/Rhabdophis_subminiatus/105043699.jpg', '2012/Oligodon_arnensis/130416518.jpeg', '2012/Erythrolamprus_typhlus/13035453.jpeg', '2012/Drymobius_margaritiferus/32115278.jpg', '2012/Micrurus_nigrocinctus/141282585.jpeg', '2012/Lampropeltis_annulata/170901.jpg', '2012/Crotalus_mitchellii/1222413.JPG', '2013/Vermicella_annulata/110667150.jpeg', '2013/Malayopython_reticulatus/315016.jpg', '2013/Farancia_erytrogramma/57534305.jpeg', '2013/Dendrophidion_bivittatus/10592948.jpg', '2013/Mastigodryas_boddaerti/10592945.jpg', '2013/Rhamphiophis_rostratus/644744.jpg', '2013/Masticophis_schotti/6853634.jpeg', '2013/Suta_punctata/489389.JPG', '2013/Corallus_hortulana/65531505.jpeg', '2013/Helicops_pastazae/10592935.jpg', '2013/Enuliophis_sclateri/111120281.jpeg', '2013/Dendrophidion_vinitor/114417656.jpeg', '2013/Dendrophidion_vinitor/114417673.jpeg', '2013/Sibon_nebulatus/114418047.jpeg', '2013/Conophis_lineatus/6729747.png', '2013/Boiga_cyanea/677503.JPG', '2014/Rhadinella_godmani/19022806.jpeg', '2014/Leptodeira_annulata/10592995.jpg', '2014/Drymoluber_dichrous/10592915.jpg', '2014/Micrurus_mosquitensis/801433.jpg', '2014/Sonora_semiannulata/873551.jpg', '2014/Opisthotropis_andersonii/23217176.jpg', '2014/Crotalus_willardi/140905452.jpeg', '2014/Thamnophis_chrysocephalus/1009618.jpg', '2014/Helicops_angulatus/10559691.jpg', '2014/Chironius_fuscus/10559759.jpg', '2014/Chironius_exoletus/10592858.jpg', '2014/Chironius_exoletus/10592951.jpg', '2014/Thamnodynastes_pallidus/10592953.jpg', '2014/Thamnodynastes_pallidus/10592954.jpg', '2014/Dipsas_catesbyi/10592957.jpg', '2014/Dipsas_catesbyi/10592978.jpg', '2014/Micrurus_lemniscatus/10592981.jpg', '2014/Thamnophis_chrysocephalus/10121242.jpeg', '2014/Dipsas_andiana/75670107.jpeg', '2017/Masticophis_mentovarius/85066725.jpeg', '2017/Micrurus_mosquitensis/154992966.jpg', '2017/Micrurus_mosquitensis/154993512.jpg', '2017/Helicops_pastazae/10461491.jpg', '2017/Anilius_scytale/84911063.jpeg', '2017/Coniophanes_fissidens/169191583.jpeg', '2017/Chrysopelea_pelias/6732996.jpeg', '2017/Masticophis_schotti/6940302.jpg', '2017/Xenochrophis_trianguligerus/7468252.jpeg', '2017/Coronella_girondica/65211373.jpg', '2017/Calliophis_intestinalis/7475730.jpg', '2017/Pareas_carinatus/7475833.jpg', '2017/Ahaetulla_prasina/7476094.jpg', '2017/Pareas_carinatus/7476170.jpg', '2017/Calliophis_intestinalis/7476644.jpg', '2017/Coelognathus_flavolineatus/7476883.jpg', '2017/Calamaria_bicolor/7477128.jpg', '2017/Ninia_psephota/82028824.jpg', '2017/Ptyas_major/29993979.jpg', '2017/Fowlea_flavipunctatus/52694791.jpg', '2017/Phimophis_guianensis/12887402.jpeg', '2017/Chrysopelea_paradisi/9334282.jpg', '2017/Naja_philippinensis/10046194.png', '2017/Vermicella_annulata/10070707.jpeg', '2017/Lycodonomorphus_inornatus/11342224.jpeg', '2017/Lycodon_travancoricus/53488353.jpeg', '2017/Dendrophidion_bivittatus/11010494.jpg', '2017/Leptodeira_septentrionalis/12016398.jpg', '2017/Erythrolamprus_typhlus/58425285.jpg', '2017/Dendrelaphis_pictus/26040802.jpeg', '2017/Helicops_infrataeniatus/78621365.jpeg', '2017/Oligodon_arnensis/122361125.jpg', '2017/Malpolon_insignitus/12484397.jpeg', '2017/Malpolon_insignitus/12484398.jpeg', '2017/Hydrops_triangularis/58425220.jpg', '2017/Agkistrodon_taylori/18786031.jpg', '2017/Dryophylax_phoenix/131556526.jpg', '2017/Lampropeltis_alterna/234941794.jpeg', '2017/Oligodon_octolineatus/210061525.jpeg', '2019/Pseudonaja_aspidorhyncha/59745855.jpeg', '2019/Python_bivittatus/60958710.jpeg', '2019/Cacophis_churchilli/235282270.jpeg', '2019/Boaedon_capensis/71323793.jpeg', '2019/Ovophis_makazayazaya/66223287.jpeg', '2019/Epicrates_cenchria/69670158.jpeg', '2019/Epicrates_cenchria/69670414.jpeg', '2019/Epicrates_cenchria/69670967.jpeg', '2019/Atractus_lasallei/34537631.jpeg', '2019/Philothamnus_irregularis/31618156.jpg', '2019/Oxybelis_koehleri/31969833.jpg', '2019/Leptophis_ahaetulla/33544576.jpeg', '2019/Spilotes_sulphureus/33884493.jpg', '2019/Leptodeira_splendida/39728344.jpeg', '2019/Aspidura_brachyorrhos/34000091.jpg', '2019/Coniophanes_imperialis/34591226.jpeg', '2019/Erythrolamprus_taeniogaster/41842696.jpeg', '2019/Laticauda_colubrina/36397455.jpg', '2019/Dendrelaphis_grandoculis/95217759.jpeg', '2019/Indotyphlops_braminus/39676150.jpeg', '2019/Natrix_natrix/91992174.jpeg', '2019/Homalopsis_buccata/35834878.jpg', '2019/Homalopsis_buccata/35834918.jpg', '2019/Masticophis_fuliginosus/36373234.jpg', '2019/Helicops_angulatus/36585653.jpg', '2019/Helicops_angulatus/36587159.jpg', '2019/Helicops_angulatus/36586288.jpg', '2019/Helicops_angulatus/36586440.jpg', '2019/Hemorrhois_nummifer/37137698.jpeg', '2019/Hemorrhois_nummifer/37138347.jpeg', '2019/Rhadinella_kinkelini/37826977.jpg', '2019/Rhadinella_kinkelini/37827007.jpg', '2019/Rhadinella_kinkelini/37827019.jpg', '2019/Coniophanes_schmidti/38949146.jpeg', '2019/Bothrophthalmus_lineatus/64191003.jpeg', '2019/Coronella_austriaca/38270544.jpg', '2019/Leptodeira_ashmeadii/38915554.jpeg', '2019/Leptodeira_ashmeadii/38915567.jpeg', '2019/Pliocercus_euryzonus/39960950.jpg', '2019/Crotalus_cerastes/40460017.jpeg', '2019/Hypsiglena_ochrorhynchus/68486239.jpg', '2019/Oxyrhabdium_leporinum/41794630.jpeg', '2019/Lycodon_aulicus/67735970.jpeg', '2019/Natrix_tessellata/44305037.jpeg', '2019/Trimorphodon_quadruplex/42987514.jpeg', '2019/Oligodon_fasciolatus/43484461.jpeg', '2019/Chrysopelea_ornata/43288320.jpeg', '2019/Chrysopelea_ornata/43288324.jpeg', '2019/Coronella_austriaca/74684743.jpg', '2019/Lycodon_aulicus/43732764.jpeg', '2019/Opheodrys_vernalis/44172547.jpeg', '2019/Psammodynastes_pulverulentus/44177434.jpg', '2019/Spilotes_pullatus/44499242.jpeg', '2019/Ahaetulla_sahyadrensis/170608540.jpeg', '2019/Boiga_multomaculata/45599675.jpg', '2019/Natrix_natrix/45787047.jpg', '2019/Vipera_aspis/46102482.jpeg', '2019/Vipera_aspis/46102488.jpeg', '2019/Eunectes_notaeus/54094064.jpg', '2019/Tantilla_nigriceps/47056279.jpg', '2019/Tantilla_nigriceps/47056303.jpg', '2019/Eryx_johnii/47100199.jpeg', '2019/Corallus_ruschenbergerii/47627933.jpg', '2019/Rhabdophis_rhodomelas/49385579.jpg', '2019/Bungarus_candidus/49901577.jpg', '2019/Natrix_natrix/48193078.jpeg', '2019/Crotalus_durissus/128963494.jpeg', '2019/Enulius_flavitorques/180432176.jpg', '2019/Lycophidion_capense/49810358.jpg', '2019/Erythrolamprus_jaegeri/59506795.jpeg', '2019/Spilotes_pullatus/50319427.jpg', '2019/Boa_constrictor/159394302.jpeg', '2019/Conophis_lineatus/51869436.jpeg', '2019/Thamnophis_gigas/53101839.jpg', '2019/Stenorrhina_freminvillei/53441977.jpeg', '2019/Psammodynastes_pulverulentus/131263165.jpeg', '2019/Lampropeltis_micropholis/53232741.jpeg', '2019/Fowlea_flavipunctata/90375252.jpg', '2019/Bothrocophias_campbelli/55139527.jpg', '2019/Bothrocophias_campbelli/55139549.jpg', '2019/Psammodynastes_pulverulentus/113165219.jpg', '2019/Chironius_carinatus/55672147.jpeg', '2019/Imantodes_inornatus/56262524.jpg', '2019/Imantodes_inornatus/56262535.jpg', '2019/Imantodes_inornatus/56262541.jpg', '2019/Corallus_ruschenbergerii/68379176.jpeg', '2019/Corallus_ruschenbergerii/68379219.jpeg', '2019/Corallus_ruschenbergerii/68379260.jpeg', '2019/Salvadora_mexicana/61182466.jpg', '2019/Corallus_ruschenbergerii/56927742.jpeg', '2019/Lampropeltis_elapsoides/118613348.jpg', '2019/Salvadora_lineata/59540158.jpg', '2019/Pituophis_vertebralis/70642001.jpeg', '2019/Helicops_angulatus/58093471.jpg', '2019/Aspidelaps_lubricus/182672195.jpg', '2019/Thamnosophis_lateralis/183744830.jpg', '2019/Leptodeira_nigrofasciata/59401069.jpeg', '2019/Atractus_atratus/102550859.jpg', '2019/Atractus_atratus/102550873.jpg', '2020/Telescopus_semiannulatus/59368518.jpeg', '2020/Boaedon_fuliginosus/59368720.jpeg', '2020/Oligodon_arnensis/124077441.jpg', '2020/Boiga_cynodon/59831791.jpg', '2020/Thelotornis_kirtlandii/62582215.jpg', '2020/Chironius_quadricarinatus/63024492.jpeg', '2020/Chironius_quadricarinatus/63024505.jpeg', '2020/Chironius_quadricarinatus/63024510.jpeg', '2020/Eunectes_notaeus/108603598.jpg', '2020/Geophis_hoffmanni/63516740.jpg', '2020/Geophis_hoffmanni/63516804.jpg', '2020/Lichanura_orcutti/63719057.jpg', '2020/Thamnophis_elegans/67276341.jpeg', '2020/Eryx_miliaris/66103353.jpg', '2020/Enuliophis_sclateri/115005840.jpg', '2020/Cryptophis_nigrescens/67278056.jpeg', '2020/Natrix_helvetica/82639009.jpg', '2020/Dipsas_brevifacies/67909169.jpeg', '2020/Oxybelis_koehleri/69802071.jpeg', '2020/Natrix_natrix/74274727.jpeg', '2020/Trimeresurus_salazar/71181279.jpeg', '2020/Trimeresurus_salazar/71181328.jpeg', '2020/Trimeresurus_salazar/71180541.jpg', '2020/Drymobius_margaritiferus/71215629.jpeg', '2020/Austrelaps_ramsayi/71572304.jpg', '2020/Elaphe_quatuorlineata/71928590.jpeg', '2020/Suta_flagellum/83534960.jpeg', '2020/Ptyas_dhumnades/170186295.jpeg', '2020/Salvadora_lemniscata/73868348.jpeg', '2020/Porthidium_dunni/76778157.jpg', '2020/Elaphe_quatuorlineata/74318132.jpeg', '2020/Rhabdophis_plumbicolor/134587253.jpeg', '2020/Indotyphlops_braminus/75141311.jpg', '2020/Zamenis_longissimus/78005083.jpeg', '2020/Zamenis_longissimus/78005138.jpeg', '2020/Zamenis_longissimus/77438588.jpeg', '2020/Coronella_austriaca/77689118.jpg', '2020/Gonyosoma_oxycephalum/78306139.jpg', '2020/Porthidium_ophryomegas/79006454.jpeg', '2020/Pantherophis_alleghaniensis/109638306.jpg', '2020/Pantherophis_ramspotti/80555307.jpg', '2020/Pantherophis_ramspotti/80555538.jpg', '2020/Pantherophis_ramspotti/80555792.jpg', '2020/Epicrates_maurus/80950136.jpg', '2020/Ahaetulla_mycterizans/81285995.jpeg', '2020/Eryx_conicus/82710726.jpeg', '2020/Phrynonax_poecilonotus/152536585.jpeg', '2020/Zamenis_longissimus/236526963.jpg', '2020/Thamnophis_couchii/82223624.jpg', '2020/Hemorrhois_ravergieri/83708973.jpeg', '2020/Hydrophis_ornatus/223665544.jpg', '2020/Oxybelis_potosiensis/83702606.jpeg', '2020/Boiga_multomaculata/87288876.jpeg', '2020/Crotalus_pricei/91342489.jpeg', '2020/Crotalus_pricei/91342494.jpeg', '2020/Python_sebae/88765932.jpeg', '2020/Erythrolamprus_bizona/88572940.jpg', '2020/Dendrelaphis_haasi/89231462.jpeg', '2020/Ninia_atrata/94475667.jpeg', '2020/Salvadora_lemniscata/89957956.jpeg', '2020/Salvadora_lemniscata/89958229.jpeg', '2020/Salvadora_lemniscata/89958451.jpeg', '2020/Naja_subfulva/170194966.jpeg', '2020/Naja_subfulva/170195062.jpeg', '2020/Bothrops_pubescens/90855933.jpg', '2020/Vipera_aspis/111111973.jpg', '2020/Hierophis_viridiflavus/95020192.jpg', '2020/Hierophis_viridiflavus/95020363.jpg', '2020/Oligodon_arnensis/104921915.jpeg', '2020/Dolichophis_schmidti/113956694.jpg', '2020/Lycodon_liuchengchaoi/144588485.jpeg', '2020/Xenochrophis_maculatus/93370617.jpg', '2020/Demansia_reticulata/93555656.jpg', '2020/Lycodon_ruhstrati/94397231.jpeg', '2020/Vipera_aspis/101347110.jpeg', '2020/Dendrelaphis_pictus/102866449.jpg', '2020/Dendrelaphis_pictus/102866440.jpg', '2020/Pseudoboa_neuwiedii/107091399.jpeg', '2020/Vipera_berus/127531019.jpeg', '2020/Boa_constrictor/97625314.jpeg', '2020/Tantilla_gracilis/98014152.jpg', '2020/Bothrops_alternatus/98879800.jpeg', '2020/Boiga_forsteni/101210988.jpeg', '2020/Leptodeira_annulata/102444647.jpeg', '2020/Leptodeira_annulata/102444665.jpeg', '2020/Leptodeira_annulata/102444674.jpeg', '2020/Leptodeira_annulata/102444693.jpeg', '2020/Leptodeira_annulata/102444704.jpeg', '2020/Hypsiscopus_plumbea/104008071.jpg', '2020/Suta_dwyeri/104584584.jpg', '2020/Hemorrhois_nummifer/102076694.jpg', '2020/Adelphicos_visoninum/102245266.jpeg', '2020/Philodryas_agassizii/102387043.jpg', '2020/Zamenis_situla/102412295.jpg', '2020/Rhabdophis_subminiatus/103017573.jpg', '2020/Rhabdophis_subminiatus/103017513.jpg', '2020/Tomodon_dorsatus/103340570.jpeg', '2020/Dolichophis_jugularis/116532791.jpg', '2020/Dolichophis_jugularis/116532834.jpg', '2020/Dolichophis_jugularis/116532855.jpg', '2020/Atractus_paraguayensis/103994324.jpeg', '2020/Sibon_anthracops/104375772.jpg', '2020/Oxyrhopus_petolarius/105181308.jpeg', '2020/Lampropeltis_getula/108182678.jpeg', '2020/Pareas_carinatus/105885126.jpeg', '2020/Oxybelis_fulgidus/188593303.jpg', '2020/Aparallactus_lunulatus/106495916.jpeg', '2020/Mastigodryas_boddaerti/107099322.jpeg', '2020/Hypnale_nepa/107969426.jpg', '2020/Dipsas_catesbyi/113400045.jpg', '2020/Echinanthera_cyanopleura/108304847.jpeg', '2021/Leptodrymus_pulcherrimus/109630991.jpeg', '2021/Anilios_bicolor/150442199.jpg', '2021/Hydrophis_platurus/113480809.jpeg', '2021/Crotalus_aquilus/110364809.jpeg', '2021/Coniophanes_imperialis/110568759.jpg', '2021/Xenodon_dorbignyi/130690394.jpeg', '2021/Corallus_ruschenbergerii/113065848.jpg', '2021/Porthidium_lansbergii/111905125.jpeg', '2021/Porthidium_lansbergii/111905148.jpeg', '2021/Ficimia_publia/112749228.jpg', '2021/Leptophis_mexicanus/113236039.jpg', '2021/Indotyphlops_braminus/114541765.jpg', '2021/Salvadora_lineata/115274966.jpg', '2021/Zamenis_situla/115682327.jpeg', '2021/Zamenis_situla/115682470.jpeg', '2021/Zamenis_situla/115682540.jpeg', '2021/Bothrops_atrox/127491786.jpg', '2021/Bothrops_atrox/127491831.jpg', '2021/Atretium_schistosum/116753675.jpeg', '2021/Coluber_constrictor/118257455.jpg', '2021/Coluber_constrictor/118257461.jpg', '2021/Coluber_constrictor/118257468.jpg', '2021/Indotyphlops_braminus/118534637.jpg', '2021/Indotyphlops_braminus/118534676.jpg', '2021/Tachymenis_ocellata/118815002.jpeg', '2021/Nerodia_fasciata/119645669.jpg', '2021/Nerodia_fasciata/119645716.jpg', '2021/Crotalus_mitchellii/120616047.jpg', '2021/Bungarus_caeruleus/121987144.jpeg', '2021/Naja_melanoleuca/128687447.jpg', '2021/Atractus_carrioni/126102215.jpg', '2021/Erythrolamprus_melanotus/128525135.jpg', '2021/Erythrolamprus_melanotus/128525153.jpg', '2021/Thamnophis_ordinoides/128773221.jpeg', '2021/Lampropeltis_micropholis/128829321.jpg', '2021/Leptodeira_nigrofasciata/130472627.jpeg', '2021/Leptodeira_nigrofasciata/130472758.jpeg', '2021/Leptodeira_nigrofasciata/130472802.jpeg', '2021/Vipera_berus/136792442.jpeg', '2021/Storeria_dekayi/135035849.jpg', '2021/Micrurus_camilae/137183120.jpeg', '2021/Tantilla_melanocephala/158274903.jpg', '2021/Macrovipera_lebetinus/135709924.jpeg', '2021/Bothrops_bilineatus/139513236.jpeg', '2021/Bothrops_asper/137173097.jpeg', '2021/Oligodon_sublineatus/138090906.jpeg', '2021/Siphlophis_compressus/148675926.jpg', '2021/Thamnophis_cyrtopsis/142982312.jpeg', '2021/Clelia_scytalina/143000260.jpg', '2021/Demansia_reticulata/142798080.jpeg', '2021/Dolichophis_jugularis/143176053.jpg', '2021/Urotheca_fulviceps/144246084.jpeg', '2021/Tretanorhinus_nigroluteus/158498893.jpeg', '2021/Dendrophidion_percarinatum/160094559.jpeg', '2021/Pareas_stanleyi/225417796.jpeg', '2021/Coronella_girondica/154762765.jpg', '2021/Coronella_girondica/154762825.jpg', '2021/Laticauda_colubrina/158580938.jpeg', '2021/Hebius_boulengeri/170186519.jpeg', '2021/Pantherophis_spiloides/156809193.jpeg', '2021/Micrurus_lemniscatus/157784766.jpeg', '2021/Zamenis_situla/180456801.jpeg', '2021/Ahaetulla_borealis/162250238.jpeg', '2021/Micrurus_diastema/166721251.jpg', '2021/Lampropeltis_triangulum/163060352.jpeg', '2021/Salvadora_lineata/169985709.jpg', '2021/Oxybelis_potosiensis/169675126.jpeg', '2021/Eunectes_murinus/204299422.jpeg', '2021/Dipsas_neuwiedi/207869435.jpg', '2021/Dipsas_neuwiedi/207869485.jpg', '2021/Thamnophis_proximus/170495233.jpeg', '2021/Boa_imperator/170637991.jpeg', '2021/Crotalus_ehecatl/170788633.jpg', '2021/Crotalus_ehecatl/170788634.jpg', '2021/Crotalus_ehecatl/170788636.jpg', '2021/Crotalus_ehecatl/170788644.jpg', '2021/Erythrolamprus_typhlus/171240131.jpeg', '2021/Chironius_maculoventris/171663522.jpeg', '2021/Coelognathus_radiatus/183693780.jpg', '2021/Pseudonaja_mengdeni/185153738.jpg', '2021/Pseudonaja_mengdeni/185153744.jpg', '2021/Pseudonaja_mengdeni/185153763.jpg', '2021/Stenorrhina_degenhardtii/172594851.jpeg', '2021/Bothrops_ammodytoides/174579877.jpg', '2021/Lycognathophis_seychellensis/212072332.jpg', '2023/Morelia_imbricata/254179752.jpeg', '2023/Bothrops_atrox/252406799.jpg', '2023/Bothrops_atrox/252406800.jpg', '2023/Bothrops_atrox/252406801.jpg', '2023/Bothrops_atrox/252406779.jpg', '2023/Bothrops_atrox/252406780.jpg', '2023/Bothrops_atrox/252406782.jpg', '2023/Cacophis_krefftii/252928074.jpeg', '2023/Tomodon_dorsatus/253630941.jpg', '2023/Tomodon_dorsatus/253630950.jpg', '2023/Tantilla_relicta/253906534.jpeg', '2023/Dasypeltis_scabra/253928438.jpg', '2023/Dasypeltis_scabra/253928617.jpg', '2023/Denisonia_devisi/254371540.jpg'], 'SnakeCLEF2023-TrainMetadata-HM.csv': [], 'SnakeCLEF2023-ValMetadata.csv': []}\n"
     ]
    },
    {
     "name": "stderr",
     "output_type": "stream",
     "text": [
      "\n"
     ]
    }
   ],
   "source": [
    "from pathlib import Path\n",
    "\n",
    "import pandas as pd\n",
    "from PIL import Image\n",
    "from torchvision.transforms import InterpolationMode, v2\n",
    "from tqdm import tqdm\n",
    "\n",
    "from paths import DATA_DIR, METADATA_DIR\n",
    "\n",
    "folder_metas = [(\"train\", \"SnakeCLEF2023-TrainMetadata-iNat.csv\"),\n",
    "                (\"train\", \"SnakeCLEF2023-TrainMetadata-HM.csv\"),\n",
    "                (\"val\", \"SnakeCLEF2023-ValMetadata.csv\")]\n",
    "\n",
    "missing_images = {metadata_file: [] for stage, metadata_file in folder_metas}\n",
    "for folder, metadata_file in folder_metas:\n",
    "\n",
    "    df = pd.read_csv(METADATA_DIR / metadata_file)\n",
    "    img_paths = df['image_path']\n",
    "\n",
    "    for img_path in tqdm(img_paths):\n",
    "        if not (DATA_DIR / folder / img_path).exists():\n",
    "            missing_images[metadata_file].append(img_path)\n",
    "\n",
    "print(missing_images)"
   ]
  },
  {
   "cell_type": "code",
   "execution_count": 2,
   "id": "05a3aa8d-172d-45c7-bd9b-eb3a68b68b6f",
   "metadata": {},
   "outputs": [],
   "source": [
    "images_to_exclude = set(missing_images[\"SnakeCLEF2023-TrainMetadata-iNat.csv\"])"
   ]
  },
  {
   "cell_type": "code",
   "execution_count": 3,
   "id": "ae2fe6ff-6b28-4055-96c2-a7f5f51f767a",
   "metadata": {},
   "outputs": [
    {
     "name": "stdout",
     "output_type": "stream",
     "text": [
      "154301\n",
      "153885 416\n"
     ]
    }
   ],
   "source": [
    "df = pd.read_csv(METADATA_DIR / \"SnakeCLEF2023-TrainMetadata-iNat.csv\")\n",
    "print(len(df))\n",
    "df = df[~df['image_path'].isin(images_to_exclude)]\n",
    "print(len(df), len(images_to_exclude))"
   ]
  },
  {
   "cell_type": "code",
   "execution_count": 4,
   "id": "b2b61717-0c16-4839-9d33-14682ebafe44",
   "metadata": {},
   "outputs": [
    {
     "name": "stdout",
     "output_type": "stream",
     "text": [
      "154301\n"
     ]
    }
   ],
   "source": [
    "print(len(df) + len(images_to_exclude))"
   ]
  },
  {
   "cell_type": "code",
   "execution_count": 5,
   "id": "0dccca3c-3fea-40fb-a077-066ea7f60f27",
   "metadata": {},
   "outputs": [],
   "source": [
    "df.to_csv(METADATA_DIR / \"SnakeCLEF2023-TrainMetadata-iNat.csv\", index=None)"
   ]
  },
  {
   "cell_type": "code",
   "execution_count": null,
   "id": "cffaf6ba-408a-48a8-9a79-53e92ab1948d",
   "metadata": {},
   "outputs": [],
   "source": []
  }
 ],
 "metadata": {
  "kernelspec": {
   "display_name": "snakeclef",
   "language": "python",
   "name": "snakeclef"
  },
  "language_info": {
   "codemirror_mode": {
    "name": "ipython",
    "version": 3
   },
   "file_extension": ".py",
   "mimetype": "text/x-python",
   "name": "python",
   "nbconvert_exporter": "python",
   "pygments_lexer": "ipython3",
   "version": "3.10.13"
  }
 },
 "nbformat": 4,
 "nbformat_minor": 5
}
